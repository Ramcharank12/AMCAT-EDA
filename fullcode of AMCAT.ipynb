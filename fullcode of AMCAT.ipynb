{
  "metadata": {
    "kernelspec": {
      "name": "python",
      "display_name": "Python (Pyodide)",
      "language": "python"
    },
    "language_info": {
      "codemirror_mode": {
        "name": "python",
        "version": 3
      },
      "file_extension": ".py",
      "mimetype": "text/x-python",
      "name": "python",
      "nbconvert_exporter": "python",
      "pygments_lexer": "ipython3",
      "version": "3.8"
    }
  },
  "nbformat_minor": 4,
  "nbformat": 4,
  "cells": [
    {
      "cell_type": "code",
      "source": "# Step 1: Import Necessary Libraries\nimport pandas as pd\nimport numpy as np\nimport matplotlib.pyplot as plt\n# Step 2: Load the Dataset\n# Adjust the file path as necessary\ndata = pd.read_csv('data.xlsx - Sheet1.csv')  # Replace with the correct file path if needed\n# Step 3: Data Cleaning\n# Convert date columns to datetime format with explicit format\ndata['DOJ'] = pd.to_datetime(data['DOJ'], format='%m/%d/%Y', errors='coerce')\ndata['DOL'] = pd.to_datetime(data['DOL'], format='%m/%d/%Y', errors='coerce')\ndata['DOB'] = pd.to_datetime(data['DOB'], format='%m/%d/%Y', errors='coerce')\n# Check for missing values\nprint(data.isnull().sum())\n# Dropping rows with missing salary values\ndata = data.dropna(subset=['Salary'])\n\n# Fill missing values for categorical columns if needed\ndata['Specialization'] = data['Specialization'].fillna('Unknown')\n\n# Drop columns that are not useful for analysis\ndata.drop(columns=['Unnamed: 0'], inplace=True)\n\n# Display the cleaned dataset info\nprint(data.info())\n# Step 4: Univariate Analysis\n# Univariate analysis for Salary\nplt.figure(figsize=(10, 6))\nplt.hist(data['Salary'], bins=30, alpha=0.7, color='blue')\nplt.title('Salary Distribution')\nplt.xlabel('Salary')\nplt.ylabel('Frequency')\nplt.show()\n\n# Boxplot for detecting salary outliers using matplotlib\nplt.figure(figsize=(10, 6))\nplt.boxplot(data['Salary'])\nplt.title('Boxplot of Salary')\nplt.ylabel('Salary')\nplt.xticks([1], ['Salary'])  # Customizing x-ticks\nplt.show()\n# Histograms for other numerical variables\nnumerical_columns = ['10percentage', '12percentage', 'collegeGPA', 'English', 'Logical', 'Quant']\nfor col in numerical_columns:\n    plt.figure(figsize=(10, 6))\n    plt.hist(data[col], bins=30, alpha=0.7, color='orange')\n    plt.title(f'Distribution of {col}')\n    plt.xlabel(col)\n    plt.ylabel('Frequency')\n    plt.show()\n    # Step 5: Bivariate Analysis\n# Boxplot of Salary vs. Gender using matplotlib\nplt.figure(figsize=(10, 6))\nmale_salaries = data[data['Gender'] == 'm']['Salary']\nfemale_salaries = data[data['Gender'] == 'f']['Salary']\nplt.boxplot([male_salaries, female_salaries], labels=['Male', 'Female'])\nplt.title('Salary vs. Gender')\nplt.ylabel('Salary')\nplt.show()\n# Boxplot of Salary vs. Specialization using matplotlib\nplt.figure(figsize=(12, 6))\nspecialization_groups = data.groupby('Specialization')['Salary'].apply(list)\nplt.boxplot(specialization_groups)\nplt.title('Salary vs. Specialization')\nplt.ylabel('Salary')\nplt.xticks(rotation=90)  # Rotate x-ticks for better readability\nplt.show()\n# Boxplot of Salary vs. College Tier using matplotlib\nplt.figure(figsize=(10, 6))\ncollege_tier_groups = data.groupby('CollegeTier')['Salary'].apply(list)\nplt.boxplot(college_tier_groups)\nplt.title('Salary vs. College Tier')\nplt.ylabel('Salary')\nplt.xticks([1, 2, 3], ['Tier 1', 'Tier 2', 'Tier 3'])  # Customize based on your CollegeTier values\nplt.show()\n# Correlation heatmap for numerical variables\ncorrelation_matrix = data[numerical_columns + ['Salary']].corr()\nplt.figure(figsize=(10, 8))\nplt.imshow(correlation_matrix, cmap='coolwarm', interpolation='none')\nplt.colorbar()\nplt.xticks(range(len(correlation_matrix.columns)), correlation_matrix.columns, rotation=45)\nplt.yticks(range(len(correlation_matrix.columns)), correlation_matrix.columns)\nplt.title('Correlation Heatmap')\nplt.show()\n# Step 6: Research Questions\n# Test the claim from the Times of India article about salary range\nsalary_claim = data[(data['Salary'] >= 250000) & (data['Salary'] <= 300000)]\nspecializations_in_range = salary_claim['Specialization'].value_counts()\nprint(specializations_in_range)\n",
      "metadata": {
        "trusted": true
      },
      "outputs": [],
      "execution_count": null
    }
  ]
}